{
 "cells": [
  {
   "cell_type": "code",
   "execution_count": null,
   "metadata": {},
   "outputs": [],
   "source": [
    "# Run this first! Be sure to watch the video to learn how. \n",
    "\n",
    "%matplotlib inline\n",
    "\n",
    "from js import fetch\n",
    "\n",
    "async def get_csv(url):\n",
    "    res = await fetch(url)\n",
    "    text = await res.text()\n",
    "    filename = 'data.csv'\n",
    "    with open(filename, 'w') as f:\n",
    "        f.write(text)"
   ]
  },
  {
   "cell_type": "markdown",
   "metadata": {},
   "source": [
    "# Visualizing Heart Failure\n",
    "\n",
    "In this course you will learn how to interact with data using the Python programming language. \n",
    "The approach is a bit different than software engineering/development/architecutre. \n",
    "Instead, we work with programming languages interactively, usually one line at a time. \n",
    "\n",
    "Think of this proess like any other task that you might need to do. \n",
    "Imagine you are making cookies; we can agree that there are multiple steps that you need to follow (in a specific order) to be successful. \n",
    "\n",
    "1. Gather ingredients: \n",
    "    - Flour\n",
    "    - Water\n",
    "    - Baking powder\n",
    "    - Sugar\n",
    "    - Butter\n",
    "    - Chocolate chips\n",
    "2. Preheat oven\n",
    "3. Combine ingredients\n",
    "4. Mix ingredients\n",
    "5. Portion dough onto baking sheet\n",
    "6. Place baking sheet in oven for 15 minutes\n",
    "7. Remove from oven\n",
    "8. Let the cookies cool down (optional)\n",
    "9. Eat the cookies!\n",
    "\n",
    "This simple recipe demonstrates the same concepts that we will use when interacting with data using code. \n",
    "\n",
    "- Order is important, but sometimes has flexibility (i.e. you could have preheated the oven later or earlier)\n",
    "- Subsequent steps often depend on execution of previous steps\n",
    "    - You need to combine and mix ingredients before they go on the backing sheet\n",
    "\n",
    "Data scientists do the same thing!\n",
    "\n",
    "## This Environment\n",
    "\n",
    "You are looking at a Jupyter notebook. \n",
    "Jupyter notebooks have two types of user input. \n",
    "\n",
    "1. Markdown (text that is intended for reading, you are reading text formatted with Markdown right now)\n",
    "2. Code (Python in this case, when you tell it to the computer will read it and do something)\n",
    "\n",
    "Think of it as a way of talking to humans and computers in a single document. \n",
    "Pretty cool, right?\n",
    "\n",
    "Assignments in this environment will have instructions and information, and eventually a call out that looks like this: \n",
    "\n",
    "<span style=\"color: blue; background-color: white\">**TASK**: Do Something</span>\n",
    "\n",
    "When you see that, follow the instructions underneath. \n",
    "You will be expected to download your a pdf of your work (file > download) when you're done. \n",
    "Watch the video that accompanies this assignment for a demo!\n",
    "\n",
    "## Scenario\n",
    "\n",
    "We want to learn about a cohort of patients with heart failure. \n",
    "Perhaps we want to see how age might relate to other clinical parameters, or how those parameters are correlated. \n",
    "Visualizing data can be one of the most powerful techniques for evaluating data quality and patterns. \n",
    "\n",
    "We will use Python to load and visualize a dataset with information about patients with heart failure. \n",
    "In this case, dataset just means a text file with columns and rows (just like a spreadsheet).\n",
    "Generally, we work with data where rows represent observations, and columns are variables. \n",
    "\n",
    "<span style=\"color: blue; background-color: white\">**TASK**: Obtain the Data File</span>\n",
    "\n",
    "The next cell is a \"Code\" cell. \n",
    "You can type Python code in the cell, press Shift + Enter, and it will tell your computer to run the code. \n",
    "To get started, you are going to tell your computer where the data file is located. \n",
    "In this case (and for this class in general), this will be a URL. \n",
    "We are going to pass a url leading to the file we need to the function in the top cell. \n",
    "This function will then download that file to your computer, which will allow you to work with data in that file. \n",
    "\n",
    "Go ahead and copy/paste the following code into the cell below, then press shift + enter.\n",
    "\n",
    "```python\n",
    "\n",
    "await get_csv(\"https://raw.githubusercontent.com/sadams-teaching/PGPM-503-ENV/main/data/heart_failure.csv\")\n",
    "\n",
    "```\n"
   ]
  },
  {
   "cell_type": "code",
   "execution_count": null,
   "metadata": {},
   "outputs": [],
   "source": []
  },
  {
   "cell_type": "markdown",
   "metadata": {},
   "source": [
    "## Reading Data with Pandas\n",
    "\n",
    "Now that you've downloaded the data file, you need to read it into something called Pandas. \n",
    "In simplest terms, Pandas is a Python library (collection of functions) for reading and manipulating data. \n",
    "\n",
    "<span style=\"color: blue; background-color: white\">**TASK**: Read \"data.csv\" into Pandas</span>\n",
    "\n",
    "Copy and paste the following code into the code cell below: \n",
    "\n",
    "```python\n",
    "import pandas as pd \n",
    "\n",
    "data = pd.read_csv(\"data.csv\") \n",
    "\n",
    "data.head()\n",
    "```"
   ]
  },
  {
   "cell_type": "code",
   "execution_count": null,
   "metadata": {},
   "outputs": [],
   "source": []
  },
  {
   "cell_type": "markdown",
   "metadata": {},
   "source": [
    "## Scatterplots\n",
    "\n",
    "A scatterplot is a fundemantal method for visualizing continuous data. \n",
    "From the cell above, we can see that our data frame has several variables from a cohort of patients with heart failure. \n",
    "Let's make a simple visualization for sodium and ejection fraction. \n",
    "\n",
    "<span style=\"color: blue; background-color: white\">**TASK**: Make a Scatterplot with Sodium and Ejection Fraction</span>\n",
    "\n",
    "Copy and paste the following code into the code cell below: \n",
    "\n",
    "```python\n",
    "\n",
    "data.plot.scatter(x = \"Sodium\", y = \"Ejection.Fraction\")\n",
    "\n",
    "```"
   ]
  },
  {
   "cell_type": "code",
   "execution_count": null,
   "metadata": {},
   "outputs": [],
   "source": []
  },
  {
   "cell_type": "markdown",
   "metadata": {},
   "source": [
    "## All Done!\n",
    "\n",
    "When you are finished, save the ipynb file to your computer, then submit it through the Canvas assignment. \n"
   ]
  },
  {
   "cell_type": "markdown",
   "metadata": {},
   "source": []
  }
 ],
 "metadata": {
  "interpreter": {
   "hash": "12dfcda867abd51f5dc7a368ba3c36139b98ec65e49eef3e1ada88efc99384a3"
  },
  "kernelspec": {
   "display_name": "Python 3.9.12 ('env': venv)",
   "language": "python",
   "name": "python3"
  },
  "language_info": {
   "codemirror_mode": {
    "name": "ipython",
    "version": 3
   },
   "file_extension": ".py",
   "mimetype": "text/x-python",
   "name": "python",
   "nbconvert_exporter": "python",
   "pygments_lexer": "ipython3",
   "version": "3.9.12"
  },
  "orig_nbformat": 4
 },
 "nbformat": 4,
 "nbformat_minor": 2
}
