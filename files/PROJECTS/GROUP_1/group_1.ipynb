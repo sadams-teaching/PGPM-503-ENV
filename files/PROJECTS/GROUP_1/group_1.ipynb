{
 "cells": [
  {
   "cell_type": "code",
   "execution_count": null,
   "metadata": {},
   "outputs": [],
   "source": [
    "# Run this first! \n",
    "import micropip \n",
    "\n",
    "await micropip.install(\"matplotlib\")\n",
    "\n",
    "%matplotlib inline\n",
    "\n",
    "from js import fetch\n",
    "\n",
    "async def get_csv(url):\n",
    "    res = await fetch(url)\n",
    "    text = await res.text()\n",
    "    filename = 'data.tsv'\n",
    "    with open(filename, 'w') as f:\n",
    "        f.write(text)\n",
    "\n",
    "await get_csv(\"https://raw.githubusercontent.com/sadams-teaching/PGPM-503-ENV/main/data/projects/GROUP1_2023.tsv\")"
   ]
  },
  {
   "cell_type": "markdown",
   "metadata": {},
   "source": [
    "# Group 1 Research Project\n",
    "\n",
    "## Research Question\n",
    "\n",
    "What genetic variants are associated with the presence of Alzheimers disease, and what variants are protective against Alzheimers disease?\n",
    "\n",
    "## Hypothesis\n",
    "\n",
    "The presence of APOE\\*4 would be present more often in patients who have developed Alzheimers, as opposed to those with APOE*2 which would serve as a protective barrier against the disease\n",
    "\n",
    "## Comment\n",
    "\n",
    "You are investigating the association of two *APOE* alleles with Alzheimer's disease. \n",
    "This could be accomplished with a simulated cross-sectional study. \n",
    "\n",
    "## Dataset Provided\n",
    "\n",
    "For your research question, I have provided a *simulated* dataset of 10,000 subjects. \n",
    "Some of those subjects have a diagnosis of Alzheimer's disease, and some do not (controls). \n",
    "All patients have been genotyped for *APOE* \\*4 and \\*2. \n",
    "\n",
    "Your dataset contains the following data: \n",
    "\n",
    "- ID: A number to identify the subject within the dataset\n",
    "- Sex: The subject's sex assigned at birth\n",
    "- Age: The subject's age at the time of data collection. \n",
    "- Alzheimer's: A binary variable indicating whether the subject has a diagnosis of Alzheimer's disease\n",
    "    - 0 = No\n",
    "    - 1 = Yes\n",
    "- Presence of APOE\\*4: A binary variable indicating whether the subject has at least one copy of the APOE\\*4 allele\n",
    "    - 0 = No\n",
    "    - 1 = Yes\n",
    "- Presence of APOE\\*2: A binary variable indicating whether the subject has at least one copy of the APOE\\*2 allele\n",
    "    - 0 = No\n",
    "    - 1 = Yes\n",
    "\n",
    "## Your Task\n",
    "\n",
    "Your task is to investigate the association of APOE\\*4 and APOE\\*2 with Alzheimer's disease using the provided dataset. \n",
    "You can load that dataset with pandas using the following command: \n",
    "    \n",
    "    ```python\n",
    "    import pandas as pd\n",
    "\n",
    "    df = pd.read_csv(\"data.tsv\", sep=\"\\t\")\n",
    "    df.head()\n",
    "    ```"
   ]
  },
  {
   "cell_type": "code",
   "execution_count": null,
   "metadata": {},
   "outputs": [],
   "source": []
  }
 ],
 "metadata": {
  "kernelspec": {
   "display_name": "Python 3.9.12 ('env': venv)",
   "language": "python",
   "name": "python3"
  },
  "language_info": {
   "codemirror_mode": {
    "name": "ipython",
    "version": 3
   },
   "file_extension": ".py",
   "mimetype": "text/x-python",
   "name": "python",
   "nbconvert_exporter": "python",
   "pygments_lexer": "ipython3",
   "version": "3.9.13"
  },
  "orig_nbformat": 4,
  "vscode": {
   "interpreter": {
    "hash": "12dfcda867abd51f5dc7a368ba3c36139b98ec65e49eef3e1ada88efc99384a3"
   }
  }
 },
 "nbformat": 4,
 "nbformat_minor": 2
}
