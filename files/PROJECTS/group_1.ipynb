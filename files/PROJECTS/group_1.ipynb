{
 "cells": [
  {
   "cell_type": "code",
   "execution_count": null,
   "metadata": {},
   "outputs": [],
   "source": [
    "# Run this first! \n",
    "import micropip \n",
    "\n",
    "await micropip.install(\"matplotlib\")\n",
    "\n",
    "%matplotlib inline\n",
    "\n",
    "from js import fetch\n",
    "\n",
    "async def get_csv(url):\n",
    "    res = await fetch(url)\n",
    "    text = await res.text()\n",
    "    filename = 'data.csv'\n",
    "    with open(filename, 'w') as f:\n",
    "        f.write(text)\n",
    "\n",
    "await get_csv(\"https://raw.githubusercontent.com/sadams-teaching/PGPM-503-ENV/main/data/projects/GROUP1_2024.csv\")"
   ]
  },
  {
   "cell_type": "markdown",
   "metadata": {},
   "source": [
    "# Group 1 Research Project\n",
    "\n",
    "## Research Question\n",
    "\n",
    "How does the presence of the SHANK3STOP variation influence non-verbal status in the simulated clinical study population?\n",
    "\n",
    "## Hypothesis\n",
    "\n",
    "The presence of the SHANK3STOP variation is associated with a higher likelihood of non-verbal status.\n",
    "\n",
    "## Dataset Provided\n",
    "\n",
    "For your research question, I have simulated a dataset with 5034 subjects. Each subject's data includes information on non-verbal status, age at diagnosis, sex assigned at birth, and the presence of the SHANK3STOP variation.\n",
    "\n",
    "The dataset contains the following columns:\n",
    "\n",
    "    non_verbal: Whether or not the subject is non-verbal\n",
    "        0: Verbal\n",
    "        1: Non-verbal\n",
    "    age_at_diagnosis: The subject's age at the time of diagnosis (in months)\n",
    "    sex_assigned_at_birth: The subject's sex assigned at birth\n",
    "        0: Female\n",
    "        1: Male\n",
    "    shank3stop: Whether or not the subject has the SHANK3STOP variation\n",
    "        0: No SHANK3STOP variation\n",
    "        1: SHANK3STOP variation\n",
    "\n",
    "If you followed the steps in the first cell, you should be able to load your dataset from data.csv\n",
    "\n",
    "```python\n",
    "import pandas as pd\n",
    "\n",
    "df = pd.read_csv(\"data.csv\", sep=\",\")\n",
    "df.head()\n",
    "```"
   ]
  },
  {
   "cell_type": "code",
   "execution_count": 23,
   "metadata": {},
   "outputs": [],
   "source": []
  }
 ],
 "metadata": {
  "kernelspec": {
   "display_name": "Python 3.9.12 ('env': venv)",
   "language": "python",
   "name": "python3"
  },
  "language_info": {
   "codemirror_mode": {
    "name": "ipython",
    "version": 3
   },
   "file_extension": ".py",
   "mimetype": "text/x-python",
   "name": "python",
   "nbconvert_exporter": "python",
   "pygments_lexer": "ipython3",
   "version": "3.9.13"
  },
  "orig_nbformat": 4,
  "vscode": {
   "interpreter": {
    "hash": "12dfcda867abd51f5dc7a368ba3c36139b98ec65e49eef3e1ada88efc99384a3"
   }
  }
 },
 "nbformat": 4,
 "nbformat_minor": 2
}
