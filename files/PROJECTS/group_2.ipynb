{
 "cells": [
  {
   "cell_type": "code",
   "execution_count": null,
   "metadata": {},
   "outputs": [],
   "source": [
    "# Run this first! \n",
    "import micropip \n",
    "\n",
    "await micropip.install(\"matplotlib\")\n",
    "\n",
    "%matplotlib inline\n",
    "\n",
    "from js import fetch\n",
    "\n",
    "async def get_csv(url):\n",
    "    res = await fetch(url)\n",
    "    text = await res.text()\n",
    "    filename = 'data.csv'\n",
    "    with open(filename, 'w') as f:\n",
    "        f.write(text)\n",
    "\n",
    "await get_csv(\"https://raw.githubusercontent.com/sadams-teaching/PGPM-503-ENV/main/data/projects/GROUP2_2024.csv\")"
   ]
  },
  {
   "cell_type": "markdown",
   "metadata": {},
   "source": [
    "# Group 2 Research Project\n",
    "\n",
    "## Research Question\n",
    "\n",
    "How does the implementation of routine CYP2D6 testing for patients prescribed tamoxifen influence pharmacokinetics and adverse events?\n",
    "\n",
    "## Hypothesis\n",
    "\n",
    "Testing for CYP2D6 before giving tamoxifen will help adjust doses and reduce side effects.\n",
    "\n",
    "## Dataset Provided\n",
    "\n",
    "For your research question, I have simulated a dataset with 10,237 patients diagnosed with HR+ breast cancer.\n",
    "Patients were randomly assigned to receive standard-of-care treatment or PGx-guided treatment.\n",
    "\n",
    "Basic side effect occurrence data was collected for each patient, as well as whether or not they experienced a breast cancer recurrence.\n",
    "\n",
    "The dataset contains the following columns:\n",
    "\n",
    "- Group: The treatment group the subject is assigned to\n",
    "    - Standard of Care: Standard tamoxifen treatment for HR+ breast cancer\n",
    "    - PGx Guided: PGx-guided tamoxifen treatment for HR+ breast cancer\n",
    "- Age: The subject's age at the time of data collection\n",
    "- Sex: The subject's sex assigned at birth\n",
    "- Recurrence: Whether or not the patient experienced a breast cancer recurrence\n",
    "    - 0: No recurrence\n",
    "    - 1: Recurrence\n",
    "- Flushing: Whether or not the patient reported flushing as a side effect\n",
    "    - 0: No flushing\n",
    "    - 1: Flushing\n",
    "- Nausea: Whether or not the patient reported nausea as a side effect\n",
    "    - 0: No nausea\n",
    "    - 1: Nausea\n",
    "- Amenorrhea: Whether or not the patient reported amenorrhea as a side effect (0% if male)\n",
    "    - 0: No amenorrhea\n",
    "    - 1: Amenorrhea\n",
    "\n",
    "If you followed the steps in the first cell, you should be able to load your dataset from `data.csv`\n",
    "\n",
    "```python\n",
    "import pandas as pd\n",
    "\n",
    "df = pd.read_csv(\"data.csv\", sep=\",\")\n",
    "df.head()\n",
    "```"
   ]
  },
  {
   "cell_type": "code",
   "execution_count": 23,
   "metadata": {},
   "outputs": [],
   "source": []
  }
 ],
 "metadata": {
  "kernelspec": {
   "display_name": "Python 3.9.12 ('env': venv)",
   "language": "python",
   "name": "python3"
  },
  "language_info": {
   "codemirror_mode": {
    "name": "ipython",
    "version": 3
   },
   "file_extension": ".py",
   "mimetype": "text/x-python",
   "name": "python",
   "nbconvert_exporter": "python",
   "pygments_lexer": "ipython3",
   "version": "3.9.13"
  },
  "orig_nbformat": 4,
  "vscode": {
   "interpreter": {
    "hash": "12dfcda867abd51f5dc7a368ba3c36139b98ec65e49eef3e1ada88efc99384a3"
   }
  }
 },
 "nbformat": 4,
 "nbformat_minor": 2
}
