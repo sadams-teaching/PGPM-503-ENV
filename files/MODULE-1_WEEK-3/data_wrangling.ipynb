{
 "cells": [
  {
   "cell_type": "code",
   "execution_count": null,
   "metadata": {},
   "outputs": [],
   "source": [
    "# Run this first! \n",
    "import micropip \n",
    "\n",
    "await micropip.install(\"matplotlib\")\n",
    "\n",
    "%matplotlib inline\n",
    "\n",
    "from js import fetch\n",
    "\n",
    "async def get_csv(url):\n",
    "    res = await fetch(url)\n",
    "    text = await res.text()\n",
    "    filename = 'data.csv'\n",
    "    with open(filename, 'w') as f:\n",
    "        f.write(text)\n",
    "\n",
    "await get_csv(\"https://raw.githubusercontent.com/sadams-teaching/PGPM-503-ENV/main/data/size_data.csv\")"
   ]
  },
  {
   "attachments": {},
   "cell_type": "markdown",
   "metadata": {},
   "source": [
    "# Data Wrangling - Basic Biometric Data\n",
    "\n",
    "In this activity, you'll be working with a dataset called \"size_data.csv\"\n",
    "\n",
    "This is a dataset that contains data for 1000 simulated patients. \n",
    "\n",
    "Over the next sets of code blocks, you'll do some basic data exploration and wrangling. \n",
    "\n",
    "*Hint*: The first few code blocks are the same as last week's assignment (and most assignments will follow that pattern).\n"
   ]
  },
  {
   "attachments": {},
   "cell_type": "markdown",
   "metadata": {},
   "source": [
    "<span style=\"color: blue; background-color: white\">**TASK**: Prepare your environment and load the dataset into Pandas</span>\n",
    "\n",
    "Remember the command? Feel free to look back on old assignments. \n",
    "Set your dataframe name to whatever you want (ideally something intuitive)."
   ]
  },
  {
   "cell_type": "code",
   "execution_count": null,
   "metadata": {},
   "outputs": [],
   "source": []
  },
  {
   "attachments": {},
   "cell_type": "markdown",
   "metadata": {},
   "source": [
    "<span style=\"color: blue; background-color: white\">**TASK**: Use the \"head\" function to view the first few rows from the data frame</span>"
   ]
  },
  {
   "cell_type": "code",
   "execution_count": null,
   "metadata": {},
   "outputs": [],
   "source": []
  },
  {
   "attachments": {},
   "cell_type": "markdown",
   "metadata": {},
   "source": [
    "## Initial thoughts: what's in our dataset?\n",
    "\n",
    "You see that our dataset has some basic measurements from a cohort of patients. \n",
    "What is we wanted more focused information about our dataset?\n",
    "\n",
    "<span style=\"color: blue; background-color: white\">**TASK**: Use the \"describe\" function to learn more about our dataset</span>\n",
    "\n",
    "Use 'describe' instead of 'head' in the next code cell"
   ]
  },
  {
   "cell_type": "code",
   "execution_count": null,
   "metadata": {},
   "outputs": [],
   "source": []
  },
  {
   "attachments": {},
   "cell_type": "markdown",
   "metadata": {},
   "source": [
    "## Missing Data\n",
    "\n",
    "We frequently encounter missing data in our datasets. \n",
    "Let's see if this dataset is any exception. \n",
    "\n",
    "Based on the results above - you should see that Systolic Blood Pressure has a lower \"count\" than the other variables. \n",
    "\n",
    "We can also use a more specific command to see how many cells are NA for each variable. \n",
    "\n",
    "<span style=\"color: blue; background-color: white\">**TASK**: Look for NA variables.</span>\n",
    "\n",
    "Run the following command: \n",
    "\n",
    "```python\n",
    "data.isnull().sum()\n",
    "```\n",
    "\n",
    "*Change \"data\" to whatever you named your data frame*"
   ]
  },
  {
   "cell_type": "code",
   "execution_count": null,
   "metadata": {},
   "outputs": [],
   "source": []
  },
  {
   "attachments": {},
   "cell_type": "markdown",
   "metadata": {},
   "source": [
    "## Deal with Missing Data\n",
    "\n",
    "Pandas has several \"built in\" methods for accounting for missing data. \n",
    "We are going to use a simple method that just \"imputes\" missing values with the overall mean. \n",
    "Sometimes this is appropriate, and sometimes it isn't. \n",
    "Here's more information (warning, quite dense) about Pandas and missing data: https://pandas.pydata.org/docs/user_guide/missing_data.html\n",
    "\n",
    "<span style=\"color: blue; background-color: white\">**TASK**: Fill missing Systolic Blood Pressure with the mean</span>\n",
    "\n",
    "Use the following command to create a new data frame with Systolic Blood Pressure NA values filled with the mean. \n",
    "\n",
    "```python\n",
    "data.fillna(data.mean()['Systolic Blood Pressure'])\n",
    "```"
   ]
  },
  {
   "cell_type": "code",
   "execution_count": null,
   "metadata": {},
   "outputs": [],
   "source": []
  },
  {
   "attachments": {},
   "cell_type": "markdown",
   "metadata": {},
   "source": [
    "## Wrapping complex code in a function\n",
    "\n",
    "Our command to fill NA variables is kind of messy. \n",
    "\n",
    "<span style=\"color: blue; background-color: white\">**TASK**: Make a function to fill missing SBP with the mean in a data frame</span>\n",
    "\n",
    "Remember that we can use functions to isolate complex functions and make our code easier to read and understand. \n",
    "\n",
    "Let's wrap our missing data command into a function that we can call with a chain. \n",
    "\n",
    "Put the following in the next code cell: \n",
    "\n",
    "```python\n",
    "def fill_missing_SBP_with_mean(df):\n",
    "    return df.fillna(df.mean()['Systolic Blood Pressure'])\n",
    "\n",
    "data = data\\\n",
    "        .pipe(fill_missing_SBP_with_mean)\n",
    "```"
   ]
  },
  {
   "cell_type": "code",
   "execution_count": null,
   "metadata": {},
   "outputs": [],
   "source": []
  },
  {
   "attachments": {},
   "cell_type": "markdown",
   "metadata": {},
   "source": [
    "## Calculate New Variables\n",
    "\n",
    "We have height and weight, which are the components of BMI. \n",
    "Let's add a new column called \"BMI\" and calculate it. \n",
    "\n",
    "BMI is calculated with weight (in kg) and height (in m) as $weight/height^2$\n",
    "\n",
    "We have weight in pounds and height in inches, so both need to be converted in our function. \n",
    "Let's do this in a chainable function so that we can isolate the math parts and add it to our data frame in line with other modifications. \n",
    "\n",
    "Here's how to do it. \n",
    "You will just need to make sure that the data frame variable name matches yours. "
   ]
  },
  {
   "cell_type": "code",
   "execution_count": null,
   "metadata": {},
   "outputs": [],
   "source": [
    "def height_inches_to_meters(df):\n",
    "    # Adds a new column called height_meters\n",
    "    df.loc[:, 'height_meters'] = df.loc[:, 'Height'] * 0.0254\n",
    "    return df\n",
    "\n",
    "def weight_pounds_to_kg(df):\n",
    "    # Adds a new column called weight_kg\n",
    "    df.loc[:, 'weight_kg'] = df.loc[:, 'Weight'] * 0.453592\n",
    "    return df\n",
    "\n",
    "def bmi(df):\n",
    "    # Adds a new column called BMI\n",
    "    df.loc[:, 'BMI'] = df.loc[:, 'weight_kg'] / (df.loc[:, 'height_meters'] ** 2)\n",
    "    return df\n",
    "\n",
    "# Update your variable name below if you use something different\n",
    "data = data\\\n",
    "        .pipe(height_inches_to_meters)\\\n",
    "        .pipe(weight_pounds_to_kg)\\\n",
    "        .pipe(bmi)\n",
    "\n",
    "data.head()"
   ]
  },
  {
   "attachments": {},
   "cell_type": "markdown",
   "metadata": {},
   "source": [
    "## Add Creatinine Clearance\n",
    "\n",
    "You have height, weight, and serum creatinine. \n",
    "Perhaps you have an analysis that requires kidney function?\n",
    "\n",
    "<span style=\"color: blue; background-color: white\">**TASK**: Make a function that will calculate creatinine clearance. </span>\n",
    "\n",
    "Use the same techniques as above to calculate creatinine clearance with the Cockcroft-Gault Equation. \n",
    "\n",
    "We don't know the subjects' sex, so use actual body weight and do not multiply any by 0.85. "
   ]
  },
  {
   "cell_type": "code",
   "execution_count": null,
   "metadata": {},
   "outputs": [],
   "source": []
  },
  {
   "attachments": {},
   "cell_type": "markdown",
   "metadata": {},
   "source": [
    "## Exploration\n",
    "\n",
    "<span style=\"color: blue; background-color: white\">**TASK**: Scatterplots!</span>\n",
    "\n",
    "Remember from the first assignment how to make a scatterplot of two variables?\n",
    "\n",
    "```python\n",
    "data.plot.scatter(x = \"variable_name\", y = \"variable name\")\n",
    "```\n",
    "Change the x and y variables to match columns you want to visualize. \n",
    "Try a few combinations. \n",
    "Before you move on, leave at least one of your scatterplots with variables you think might be correlated. \n",
    "\n",
    "\n",
    "You can also add a code comment to describe your findings (prepend the line with a \"#\")."
   ]
  },
  {
   "attachments": {},
   "cell_type": "markdown",
   "metadata": {},
   "source": []
  }
 ],
 "metadata": {
  "interpreter": {
   "hash": "fb4d4aa12082a426ec83478b9c3143cfceba4a986621924e908c3d30044d8e3d"
  },
  "kernelspec": {
   "display_name": "Python 3.9.13 ('env': venv)",
   "language": "python",
   "name": "python3"
  },
  "language_info": {
   "codemirror_mode": {
    "name": "ipython",
    "version": 3
   },
   "file_extension": ".py",
   "mimetype": "text/x-python",
   "name": "python",
   "nbconvert_exporter": "python",
   "pygments_lexer": "ipython3",
   "version": "3.9.13"
  },
  "orig_nbformat": 4
 },
 "nbformat": 4,
 "nbformat_minor": 2
}
