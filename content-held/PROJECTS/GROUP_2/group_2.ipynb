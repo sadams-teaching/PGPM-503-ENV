{
 "cells": [
  {
   "cell_type": "code",
   "execution_count": null,
   "metadata": {},
   "outputs": [],
   "source": [
    "%matplotlib inline\n",
    "\n",
    "from js import fetch\n",
    "\n",
    "async def get_csv(url):\n",
    "    res = await fetch(url)\n",
    "    text = await res.text()\n",
    "    filename = 'data.csv'\n",
    "    with open(filename, 'w') as f:\n",
    "        f.write(text)"
   ]
  },
  {
   "cell_type": "markdown",
   "metadata": {},
   "source": [
    "# Group 2 Research Project\n",
    "\n",
    "## Research Question\n",
    "\n",
    "What genetic variants are associated with schizophrenia?\n",
    "\n",
    "## Hypothesis\n",
    "\n",
    "Are there multiple genes associated with schizophrenia? \n",
    "\n",
    "## Comment\n",
    "\n",
    "Your hypothesis is not very informative beyond your research question. \n",
    "However, this is a hypothesis-generating study (describe that in your paper), so hypotheses tend to be more generic/non-existent for these types of studies. \n",
    "\n",
    "### Suggestions\n",
    "\n",
    "- Fully define the phenotype your are interested (i.e. diagnosis of schizophrenia, severity, or something else?). \n",
    "- Give an overview of existing literature, what do we already know about this?\n",
    "\n",
    "## Dataset Provided\n",
    "\n",
    "For your research question, I have provided a subset of data from the Pan-UK Biobank database. \n",
    "I selected the \"schizophrenia\" phenotype and downloaded the full set of GWAS output. \n",
    "Since this dataset is quite large (several GB with millions of rows of data), I subsetted for variants with meta analysis (i.e. all populations) p value of <= 0.005 and only columns associated with the meta analysis. \n",
    "\n",
    "This contains data for 680 cases and 426,487 controls. \n",
    "\n",
    "The dataset contains the following columns: \n",
    "\n",
    "chr: Chromosome\n",
    "pos: Position \n",
    "ref: Reference Allele\n",
    "alt: Alt Allele\n",
    "af_cases_meta: Minor Allele Frequency in Cases\n",
    "af_controls_meta: Minor Allele Frequency in Controls\n",
    "beta_meta: Regression coefficient for variant\n",
    "se_meta: Standard error for beta estimate\n",
    "pval_meta: p value for variant **Note that this is log transformed**\n",
    "    - Get the p value by taking 10^p_value\n",
    "\n",
    "### Statistician Consult\n",
    "\n",
    "The GWAS has been completed - you need to look for the variants that are most strongly associated. \n",
    "Most likely, you'll want to filter the table for variants with p values that are below the threshold for genome wide significance (5*10^-8). \n",
    "\n",
    "For visualization, I've made a function for you in the next cell that will make a Manhattan plot. \n",
    "However, you'll need to add a column called \"minuslog10pvalue\" before you use this function. \n",
    "Remember that the p values in the dataset are already log10 transformed...\n",
    "\n",
    "Your analysis should focus on potential biological mechanisms relating to the most strongly associated variants in the dataset. \n",
    "\n",
    "Your dataset can be accessed with the following url: \n",
    "\n",
    "https://raw.githubusercontent.com/sadams-teaching/PGPM-503-ENV/main/data/projects/group2_data.csv"
   ]
  },
  {
   "cell_type": "code",
   "execution_count": 23,
   "metadata": {},
   "outputs": [],
   "source": [
    "# Function to make a manhattan plot\n",
    "## Note: Your df needs a column called \"minuslog10pvalue\" before this function will work\n",
    "\n",
    "def make_manhattan_plot(df):\n",
    "    import matplotlib.pyplot as plt\n",
    "    df[\"ind\"] = range(len(df))\n",
    "    df[\"chr\"] = df.chr.astype('category')\n",
    "    df = df.sort_values('chr')\n",
    "    df_grouped = df.groupby(('chr'))\n",
    "\n",
    "    fig = plt.figure()\n",
    "    ax = fig.add_subplot(111)\n",
    "    colors = ['red','green','blue', 'yellow']\n",
    "\n",
    "    x_labels = []\n",
    "    x_labels_pos = []\n",
    "    for num, (name, group) in enumerate(df_grouped):\n",
    "        group.plot(kind='scatter', x='ind', y='minuslog10pvalue',color=colors[num % len(colors)], ax=ax)\n",
    "        x_labels.append(name)\n",
    "        x_labels_pos.append((group['ind'].iloc[-1] - (group['ind'].iloc[-1] - group['ind'].iloc[0])/2))\n",
    "    ax.set_xticks(x_labels_pos)\n",
    "    ax.set_xticklabels(x_labels)\n",
    "    ax.set_xlim([0, len(df)])\n",
    "    ax.set_ylim([0, 20])\n",
    "    ax.set_xlabel('Chromosome')\n"
   ]
  },
  {
   "cell_type": "code",
   "execution_count": null,
   "metadata": {},
   "outputs": [],
   "source": []
  },
  {
   "cell_type": "markdown",
   "metadata": {},
   "source": []
  }
 ],
 "metadata": {
  "kernelspec": {
   "display_name": "Python 3.9.12 ('env': venv)",
   "language": "python",
   "name": "python3"
  },
  "language_info": {
   "codemirror_mode": {
    "name": "ipython",
    "version": 3
   },
   "file_extension": ".py",
   "mimetype": "text/x-python",
   "name": "python",
   "nbconvert_exporter": "python",
   "pygments_lexer": "ipython3",
   "version": "3.9.13"
  },
  "orig_nbformat": 4,
  "vscode": {
   "interpreter": {
    "hash": "12dfcda867abd51f5dc7a368ba3c36139b98ec65e49eef3e1ada88efc99384a3"
   }
  }
 },
 "nbformat": 4,
 "nbformat_minor": 2
}
