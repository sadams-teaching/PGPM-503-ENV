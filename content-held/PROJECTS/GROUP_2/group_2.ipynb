{
 "cells": [
  {
   "cell_type": "code",
   "execution_count": null,
   "metadata": {},
   "outputs": [],
   "source": [
    "# Run this first! \n",
    "import micropip \n",
    "\n",
    "await micropip.install(\"matplotlib\")\n",
    "\n",
    "%matplotlib inline\n",
    "\n",
    "from js import fetch\n",
    "\n",
    "async def get_csv(url):\n",
    "    res = await fetch(url)\n",
    "    text = await res.text()\n",
    "    filename = 'data.tsv'\n",
    "    with open(filename, 'w') as f:\n",
    "        f.write(text)\n",
    "\n",
    "await get_csv(\"https://raw.githubusercontent.com/sadams-teaching/PGPM-503-ENV/main/data/projects/GROUP2_2023.tsv\")"
   ]
  },
  {
   "cell_type": "markdown",
   "metadata": {},
   "source": [
    "# Group 2 Research Project\n",
    "\n",
    "## Research Question\n",
    "\n",
    "Routine testing may allow for predicting an optimal dose to reduce risk of under or over anticoagulation\n",
    "\n",
    "## Hypothesis\n",
    "\n",
    "Are there multiple genes associated with schizophrenia? \n",
    "\n",
    "## Comment\n",
    "\n",
    "If routine testing of CYP2C9 is performed prior to Warfarin initiation (dosing) then we will see a reduced risk of adverse events related to anticoagulation.\n",
    "\n",
    "## Dataset Provided\n",
    "\n",
    "For your research question, I have simulated a dataset with 10,000 patients who received warfarin.\n",
    "Patients were randomly assigned to receive standard-of-care warfarin dosing or PGx-guided warfarin dosing.\n",
    "For patients receiving PGx-guided warfarin dosing, the *CYP2C9* genotype was used to determine the initial dose of warfarin. \n",
    "The genotypes tested were \\*2 and \\*3 (*hint* you should comment on whether or not this is a good enough test for *CYP2C9*).\n",
    "\n",
    "The dataset contains the following columns:\n",
    "\n",
    "- ID: A number to identify the subject within the dataset\n",
    "- Sex: The subject's sex assigned at birth\n",
    "- Age: The subject's age at the time of data collection\n",
    "- PGx Testing: Whether or not the subject received PGx-guided warfarin dosing\n",
    "    - 0: Standard-of-care warfarin dosing\n",
    "    - 1: PGx-guided warfarin dosing\n",
    "- Test Result: The *CYP2C9* diplotype for the patient. NA == not tested\n",
    "- Bleeding Event: Whether or not the patient experienced a bleeding event\n",
    "    - 0: No bleeding event\n",
    "    - 1: Bleeding event\n",
    "- Treatment Failure: Whether or not the patient experienced a treatment failure\n",
    "    - 0: No treatment failure\n",
    "    - 1: Treatment failure\n",
    "\n",
    "Treatment failure is defined as the patient needing to discontinue Warfarin for any reason. \n",
    "\n",
    "## Your Task\n",
    "\n",
    "Your task is to determine if PGx-guided warfarin dosing reduces the risk of bleeding events and/or treatment failure.\n",
    "You can load that dataset with pandas using the following command: \n",
    "    \n",
    "    ```python\n",
    "    import pandas as pd\n",
    "\n",
    "    df = pd.read_csv(\"data.tsv\", sep=\"\\t\")\n",
    "    df.head()\n",
    "    ```"
   ]
  },
  {
   "cell_type": "code",
   "execution_count": 23,
   "metadata": {},
   "outputs": [],
   "source": []
  }
 ],
 "metadata": {
  "kernelspec": {
   "display_name": "Python 3.9.12 ('env': venv)",
   "language": "python",
   "name": "python3"
  },
  "language_info": {
   "codemirror_mode": {
    "name": "ipython",
    "version": 3
   },
   "file_extension": ".py",
   "mimetype": "text/x-python",
   "name": "python",
   "nbconvert_exporter": "python",
   "pygments_lexer": "ipython3",
   "version": "3.9.13"
  },
  "orig_nbformat": 4,
  "vscode": {
   "interpreter": {
    "hash": "12dfcda867abd51f5dc7a368ba3c36139b98ec65e49eef3e1ada88efc99384a3"
   }
  }
 },
 "nbformat": 4,
 "nbformat_minor": 2
}
