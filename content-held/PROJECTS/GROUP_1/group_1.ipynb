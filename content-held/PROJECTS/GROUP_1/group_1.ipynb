{
 "cells": [
  {
   "cell_type": "code",
   "execution_count": null,
   "metadata": {},
   "outputs": [],
   "source": [
    "%matplotlib inline\n",
    "\n",
    "from js import fetch\n",
    "\n",
    "async def get_csv(url):\n",
    "    res = await fetch(url)\n",
    "    text = await res.text()\n",
    "    filename = 'data.csv'\n",
    "    with open(filename, 'w') as f:\n",
    "        f.write(text)"
   ]
  },
  {
   "cell_type": "markdown",
   "metadata": {},
   "source": [
    "# Group 1 Research Project\n",
    "\n",
    "## Research Question\n",
    "\n",
    "How does the use of standard HLA-B star allele genes(*57/01) testing for patients receiving \n",
    "ABACAVIR affect the outcome of HIV treatment?\n",
    "\n",
    "## Hypothesis\n",
    "\n",
    "The HLA-B specific star allele causes ABACAVIR treatment failure in HIV patients.\n",
    "\n",
    "## Comment\n",
    "\n",
    "You are investigating the association of HLA-B *57:01 carrier status with the occurrence of treatment failure in patients with HIV infection. \n",
    "This is an important area of research and is fairly mature from a clinical perspective; patients should receive testing for HLA-B*57:01 prior to receiving abacavir. \n",
    "\n",
    "\n",
    "### Suggestions\n",
    "\n",
    "- Fully define \"treatment failure\" in your research paper; it should be straightforward since there is a very well characterized risk in patients who are positive for HLA-B*57:01 and receiving abacavir. \n",
    "- In your paper, describe the mechanistic relationship between the genotype - phenotype. \n",
    "    - Not just causes, but how?\n",
    "\n",
    "## Dataset Provided\n",
    "\n",
    "For your research question, I have provided a *simulated* dataset of 10,000 subjects who had a diagnosis of HIV infection and received abacavir. \n",
    "Your dataset contains the following data: \n",
    "\n",
    "- ID: A number to identify the subject within the dataset\n",
    "- Sex: The subject's sex assigned at birth\n",
    "- Age: The subject's age when abacavir was started \n",
    "- Treatment Failure: Whether or not the subject failed treatment with abacavir (note - remember to define this in your paper)\n",
    "\n",
    "### Statistician Consult\n",
    "\n",
    "Your dependent variable is treatment failure. \n",
    "Your independent variable is carrier status of HLA-B*57:01.\n",
    "At the bare minimum, you need to compare the frequency of treatment failure stratified by genotype. \n",
    "This could be accomplished with a Chi-squared test. \n",
    "You can do that with something like this: \n",
    "\n",
    "```python\n",
    "from scipy.stats import chi2_contingency\n",
    "\n",
    "df = your_pandas_dataframe\n",
    "\n",
    "## Make a contingency table ##\n",
    "\n",
    "contigency= pd.crosstab(df['variable_1'], df['variable_1'])\n",
    "\n",
    "chi_square, p_value, degrees_of_freedom, expected_frequencies = chi2_contingency(contigency)\n",
    "\n",
    "print(p_value)\n",
    "```\n",
    "\n",
    "You could also make tables/vidualizations of your demographic values. \n",
    "\n",
    "Your dataset can be accessed with the following url: \n",
    "\n",
    "https://raw.githubusercontent.com/sadams-teaching/PGPM-503-ENV/main/data/projects/group1_data.csv"
   ]
  },
  {
   "cell_type": "code",
   "execution_count": null,
   "metadata": {},
   "outputs": [],
   "source": []
  }
 ],
 "metadata": {
  "kernelspec": {
   "display_name": "Python 3.9.12 ('env': venv)",
   "language": "python",
   "name": "python3"
  },
  "language_info": {
   "codemirror_mode": {
    "name": "ipython",
    "version": 3
   },
   "file_extension": ".py",
   "mimetype": "text/x-python",
   "name": "python",
   "nbconvert_exporter": "python",
   "pygments_lexer": "ipython3",
   "version": "3.9.13"
  },
  "orig_nbformat": 4,
  "vscode": {
   "interpreter": {
    "hash": "12dfcda867abd51f5dc7a368ba3c36139b98ec65e49eef3e1ada88efc99384a3"
   }
  }
 },
 "nbformat": 4,
 "nbformat_minor": 2
}
