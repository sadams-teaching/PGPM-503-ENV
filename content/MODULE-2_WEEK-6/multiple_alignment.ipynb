{
 "cells": [
  {
   "cell_type": "markdown",
   "metadata": {},
   "source": [
    "# Multiple Alignment - Real-World Example\n",
    "\n",
    "Extending our conversation from Canvas - recall that we used Nanopore to sequence the SARS-CoV-2 virus from several patients with COVID-19. \n",
    "In some of those samples, we found a variant at position 26,305 that looked like a frame-shift deletion. \n",
    "Given that this variant was not likely due to its consequences, we sent some of the samples with this variant to another lab to perform Sanger sequencing. \n",
    "\n",
    "In an experiment like this, we are tasked with ultimately comparing multiple sequences to figure out where there are differences. \n",
    "On a small scale, this probably seems pretty simple. \n",
    "But in most cases, you are working with long sequences (100s to 1000s of nucleotides) where there are multiple possible differences. \n",
    "\n",
    "## Solution: Multiple Sequence Alignment\n",
    "\n",
    "This is a very large and complex area. \n",
    "For this activity, we will focus on this very basic case in which we have a reference sequence (the \"baseline\" SARS-CoV-2 genome), the Nanopore sequence, and the Sanger sequence. \n",
    "To make things simpler, we will work with a region of 101 nucleotides from 26,250 to 2,350. \n",
    "Here's where I get that information: https://www.ncbi.nlm.nih.gov/nuccore/NC_045512.2?report=genbank&log$=seqview&from=26250&to=26350\n",
    "\n",
    "- The reference sequence is: \"CTCATTCGTTTCGGAAGAGACAGGTACGTTAATAGTTAATAGCGTACTTCTTTTTCTTGCTTTCGTGGTATTCTTGCTAGTTACACTAGCCATCCTTACTG\"\n",
    "- The Nanopore sequence for one sample was: \"CTCATTCGTTTCGGAAGAGACAGGTACGTTAATAGTTAATAGCGTACTTCTTTTTTTGCTTTCGTGGTATTCTTGCTAGTTACACTAGCCATCCTTACTG\"\n",
    "- The Sanger sequence for the same sample was: \"CTCATTCGTTTCGGAAGAGACAGGTACGTTAATAGTTAATAGCGTACTTCTTTTTTTTGCTTTCGTGGTATTCTTGCTAGTTACACTAGCCATCCTTACTG\"\n",
    "\n",
    "We will use a Python library called biopython, specifically pairwise sequencing to compare the Nanopore and Sanger sequences to the reference. \n",
    "This should help us find out if the variant identified in Nanopore was correct, or if the Sanger results indicate something different. \n",
    "\n",
    "<span style=\"color: blue; background-color: white\">**TASK**: Prepare your environment</span>\n",
    "\n",
    "You need to make two imports for this activity. Copy/paste the following code into the next cell and run it. \n",
    "\n",
    "```python\n",
    "from Bio import pairwise2\n",
    "from Bio.Seq import Seq\n",
    "```"
   ]
  },
  {
   "cell_type": "code",
   "execution_count": null,
   "metadata": {},
   "outputs": [],
   "source": []
  },
  {
   "cell_type": "markdown",
   "metadata": {},
   "source": [
    "## Create Seq Objects\n",
    "\n",
    "To work with sequence data, biopython needs to convert your raw sequence data into \"Seq\" objects. \n",
    "This makes it so that the pairwise alignment method can properly access and manipulate the sequences. \n",
    "\n",
    "The syntax is this: \n",
    "\n",
    "```python\n",
    "sequence_variable = Seq(\"Your Sequence\")\n",
    "```\n",
    "\n",
    "For example, if your sequence was \"ACTGTG\" that corresponded to a unicorn sequence, you might use the following code: \n",
    "\n",
    "```python\n",
    "unicorn_reference = Seq(\"ACTGTG\")\n",
    "```\n",
    "\n",
    "<span style=\"color: blue; background-color: white\">**TASK**: Make Seq objects</span>\n",
    "\n",
    "Use these sequences from the first cell: \n",
    "- The reference sequence is: \"CTCATTCGTTTCGGAAGAGACAGGTACGTTAATAGTTAATAGCGTACTTCTTTTTCTTGCTTTCGTGGTATTCTTGCTAGTTACACTAGCCATCCTTACTG\"\n",
    "- The Nanopore sequence for one sample was: \"CTCATTCGTTTCGGAAGAGACAGGTACGTTAATAGTTAATAGCGTACTTCTTTTTTTGCTTTCGTGGTATTCTTGCTAGTTACACTAGCCATCCTTACTG\"\n",
    "- The Sanger sequence for the same sample was: \"CTCATTCGTTTCGGAAGAGACAGGTACGTTAATAGTTAATAGCGTACTTCTTTTTTTTGCTTTCGTGGTATTCTTGCTAGTTACACTAGCCATCCTTACTG\"\n",
    "\n",
    "To make Seq variables called: \n",
    "\n",
    "- reference\n",
    "- nanopore\n",
    "- sanger"
   ]
  },
  {
   "cell_type": "code",
   "execution_count": null,
   "metadata": {},
   "outputs": [],
   "source": []
  },
  {
   "cell_type": "markdown",
   "metadata": {},
   "source": [
    "## Run pairwise aligment\n",
    "\n",
    "We are going to use a function called \"globalms\"\n",
    "\n",
    "This is called global alignment, and we will use parameters that correspond to how the program scores matches, mismatches, and gaps (i.e. how to handle when it looks like a nucleotide is deleted/added relative to the comparator). \n",
    "You don't need to know how to tune those parameters, just use the commands that I give you. \n",
    "\n",
    "<span style=\"color: blue; background-color: white\">**TASK**: Make Seq objects</span>\n",
    "\n",
    "Run pairwise global alignment for sanger vs. reference and nanopore vs. reference with the following code: \n",
    "\n",
    "```python\n",
    "nanopore_vs_reference = pairwise2.align.globalms(reference, nanopore, 5, -4, -3, -.1)\n",
    "sanger_vs_reference = pairwise2.align.globalms(reference, sanger, 5, -4, -3, -.1)\n",
    "```"
   ]
  },
  {
   "cell_type": "code",
   "execution_count": null,
   "metadata": {},
   "outputs": [],
   "source": []
  },
  {
   "cell_type": "markdown",
   "metadata": {},
   "source": [
    "## View Nanopore alignment output\n",
    "\n",
    "Now, let's iterate over the results (i.e. there might be multiple possible alignments). \n",
    "biopython has functions to display the results in a way that is intuitive. \n",
    "\n",
    "<span style=\"color: blue; background-color: white\">**TASK**: View Nanopore results</span>\n",
    "\n",
    "Use the following code: \n",
    "\n",
    "```python\n",
    "for alignment in nanopore_vs_reference:\n",
    "    print(pairwise2.format_alignment(*alignment))\n",
    "```"
   ]
  },
  {
   "cell_type": "code",
   "execution_count": null,
   "metadata": {},
   "outputs": [],
   "source": []
  },
  {
   "cell_type": "markdown",
   "metadata": {},
   "source": [
    "## View Sanger alignment output\n",
    "\n",
    "Now, let's iterate over the results (i.e. there might be multiple possible alignments). \n",
    "biopython has functions to display the results in a way that is intuitive. \n",
    "\n",
    "<span style=\"color: blue; background-color: white\">**TASK**: View Sanget results</span>\n",
    "\n",
    "Use the following code: \n",
    "\n",
    "```python\n",
    "for alignment in sanger_vs_reference:\n",
    "    print(pairwise2.format_alignment(*alignment))\n",
    "```"
   ]
  },
  {
   "cell_type": "code",
   "execution_count": null,
   "metadata": {},
   "outputs": [],
   "source": []
  },
  {
   "cell_type": "markdown",
   "metadata": {},
   "source": [
    "## Observe\n",
    "\n",
    "What's different about the two alignments?"
   ]
  }
 ],
 "metadata": {
  "kernelspec": {
   "display_name": "Python 3.9.12 ('env': venv)",
   "language": "python",
   "name": "python3"
  },
  "language_info": {
   "codemirror_mode": {
    "name": "ipython",
    "version": 3
   },
   "file_extension": ".py",
   "mimetype": "text/x-python",
   "name": "python",
   "nbconvert_exporter": "python",
   "pygments_lexer": "ipython3",
   "version": "3.9.13"
  },
  "orig_nbformat": 4,
  "vscode": {
   "interpreter": {
    "hash": "12dfcda867abd51f5dc7a368ba3c36139b98ec65e49eef3e1ada88efc99384a3"
   }
  }
 },
 "nbformat": 4,
 "nbformat_minor": 2
}
