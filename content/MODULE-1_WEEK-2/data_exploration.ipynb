{
    "cells": [
     {
      "cell_type": "code",
      "execution_count": null,
      "metadata": {},
      "outputs": [],
      "source": [
       "# Run this first! \n",
       "import micropip \n",
       "\n",
       "await micropip.install(\"matplotlib\")\n",
       "\n",
       "%matplotlib inline\n",
       "\n",
       "from js import fetch\n",
       "\n",
       "async def get_csv(url):\n",
       "    res = await fetch(url)\n",
       "    text = await res.text()\n",
       "    filename = 'data.csv'\n",
       "    with open(filename, 'w') as f:\n",
       "        f.write(text)\n",
       "\n",
       "await get_csv(\"https://raw.githubusercontent.com/sadams-teaching/PGPM-503-ENV/main/data/new_drugs.csv\")"
      ]
     },
     {
      "attachments": {},
      "cell_type": "markdown",
      "metadata": {},
      "source": [
       "# Data Exploration - New Drug Reports\n",
       "\n",
       "In this activity, you will work with a dataset of new drug reports from the Centers for Medicare and Medicaid Services. \n",
       "This data was obtained from https://healthdata.gov/dataset/Product-Data-for-Newly-Reported-Drugs-in-the-Medic/njsy-s2fj\n",
       "\n",
       "By the way - healthdata.gov is a pretty cool resource if you are ever looking for datasets to practice with (or to do real research). \n"
      ]
     },
     {
      "attachments": {},
      "cell_type": "markdown",
      "metadata": {},
      "source": [
       "<span style=\"color: blue; background-color: white\">**TASK**: Prepare your environment and load the dataset into Pandas</span>\n",
       "\n",
       "I'll show you the command one more time. \n",
       "\n",
       "```python\n",
       "import pandas as pd\n",
       "drug_df = pd.read_csv(\"data.csv\")\n",
       "```"
      ]
     },
     {
      "cell_type": "code",
      "execution_count": null,
      "metadata": {},
      "outputs": [],
      "source": []
     },
     {
      "attachments": {},
      "cell_type": "markdown",
      "metadata": {},
      "source": [
       "Now that the data is available in Pandas, let's see what kinds of data are stored in the dataset. \n",
       "\n",
       "<span style=\"color: blue; background-color: white\">**TASK**: Use the \"head\" function to view the first few rows from the data frame</span>\n",
       "\n",
       "```python\n",
       "drug_df.head()\n",
       "```"
      ]
     },
     {
      "cell_type": "code",
      "execution_count": null,
      "metadata": {},
      "outputs": [],
      "source": []
     },
     {
      "attachments": {},
      "cell_type": "markdown",
      "metadata": {},
      "source": [
       "<span style=\"color: blue; background-color: white\">**TASK**: Count how many newly reported drugs are included in this dataset?</span>\n",
       "\n",
       "This will incorporate either the number of rows or the number of columns in our dataset. \n",
       "Which do you think is more appropriate?\n",
       "\n",
       "Refer to slide 5 in the data exploration video/lecture materials. \n",
       "\n",
       "Use whichever function in the code cell below that you think is most appropriate to show how many new drug reports are included in the dataset. "
      ]
     },
     {
      "cell_type": "code",
      "execution_count": null,
      "metadata": {},
      "outputs": [],
      "source": []
     }
    ],
    "metadata": {
     "interpreter": {
      "hash": "12dfcda867abd51f5dc7a368ba3c36139b98ec65e49eef3e1ada88efc99384a3"
     },
     "kernelspec": {
      "display_name": "Python 3.9.12 ('env': venv)",
      "language": "python",
      "name": "python3"
     },
     "language_info": {
      "codemirror_mode": {
       "name": "ipython",
       "version": 3
      },
      "file_extension": ".py",
      "mimetype": "text/x-python",
      "name": "python",
      "nbconvert_exporter": "python",
      "pygments_lexer": "ipython3",
      "version": "3.9.12"
     },
     "orig_nbformat": 4
    },
    "nbformat": 4,
    "nbformat_minor": 2
   }